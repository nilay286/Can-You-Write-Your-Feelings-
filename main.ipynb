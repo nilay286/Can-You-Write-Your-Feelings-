{
 "cells": [
  {
   "cell_type": "code",
   "execution_count": 1,
   "metadata": {},
   "outputs": [],
   "source": [
    "import numpy as np\n",
    "import pandas as pd\n",
    "import seaborn as sns\n",
    "import neattext.functions as nfx\n",
    "    "
   ]
  },
  {
   "cell_type": "code",
   "execution_count": 2,
   "metadata": {},
   "outputs": [],
   "source": [
    "from sklearn.linear_model import LogisticRegression\n",
    "from sklearn.naive_bayes import MultinomialNB\n",
    "from sklearn.feature_extraction.text import CountVectorizer\n",
    "from sklearn.model_selection import train_test_split"
   ]
  },
  {
   "cell_type": "code",
   "execution_count": 3,
   "metadata": {},
   "outputs": [
    {
     "data": {
      "text/plain": [
       "<Axes: xlabel='Label', ylabel='count'>"
      ]
     },
     "execution_count": 3,
     "metadata": {},
     "output_type": "execute_result"
    },
    {
     "data": {
      "image/png": "[encoded data removed]",
      "text/plain": [
       "<Figure size 640x480 with 1 Axes>"
      ]
     },
     "metadata": {},
     "output_type": "display_data"
    }
   ],
   "source": [
    "df = pd.read_csv(\"data/dataset.csv\", encoding='latin-1') \n",
    "sns.countplot(x='Label', data=df)"
   ]
  },
  {
   "cell_type": "markdown",
   "metadata": {},
   "source": [
    "Data Cleaning"
   ]
  },
  {
   "cell_type": "code",
   "execution_count": 4,
   "metadata": {},
   "outputs": [
    {
     "data": {
      "text/html": [
       "<div>\n",
       "<style scoped>\n",
       "    .dataframe tbody tr th:only-of-type {\n",
       "        vertical-align: middle;\n",
       "    }\n",
       "\n",
       "    .dataframe tbody tr th {\n",
       "        vertical-align: top;\n",
       "    }\n",
       "\n",
       "    .dataframe thead th {\n",
       "        text-align: right;\n",
       "    }\n",
       "</style>\n",
       "<table border=\"1\" class=\"dataframe\">\n",
       "  <thead>\n",
       "    <tr style=\"text-align: right;\">\n",
       "      <th></th>\n",
       "      <th>Unnamed: 0</th>\n",
       "      <th>Sentence</th>\n",
       "      <th>Label</th>\n",
       "      <th>Clean_Text</th>\n",
       "    </tr>\n",
       "  </thead>\n",
       "  <tbody>\n",
       "    <tr>\n",
       "      <th>0</th>\n",
       "      <td>0</td>\n",
       "      <td>Allah aþkýna bi fýrça neden 250 tl neden yani ...</td>\n",
       "      <td>kizgin</td>\n",
       "      <td>Allah aþkýna bi fýrça neden 250 tl neden yani ...</td>\n",
       "    </tr>\n",
       "    <tr>\n",
       "      <th>1</th>\n",
       "      <td>1</td>\n",
       "      <td>Muavin bir þey içip içmediðimi sormak için ben...</td>\n",
       "      <td>surpriz</td>\n",
       "      <td>Muavin bir þey içip içmediðimi sormak için ben...</td>\n",
       "    </tr>\n",
       "    <tr>\n",
       "      <th>2</th>\n",
       "      <td>2</td>\n",
       "      <td>Herkese güzel günler öpüyorum sizler tivitýr a...</td>\n",
       "      <td>mutlu</td>\n",
       "      <td>Herkese güzel günler öpüyorum sizler tivitýr a...</td>\n",
       "    </tr>\n",
       "    <tr>\n",
       "      <th>3</th>\n",
       "      <td>3</td>\n",
       "      <td>Ya þu sevgililerin birbirine þifre verme olayý...</td>\n",
       "      <td>kizgin</td>\n",
       "      <td>Ya þu sevgililerin birbirine þifre verme olayý...</td>\n",
       "    </tr>\n",
       "    <tr>\n",
       "      <th>4</th>\n",
       "      <td>4</td>\n",
       "      <td>Almanya'da 'yok artýk' dedirten olay! Nereye p...</td>\n",
       "      <td>surpriz</td>\n",
       "      <td>Almanya'da 'yok artýk' dedirten olay! Nereye p...</td>\n",
       "    </tr>\n",
       "    <tr>\n",
       "      <th>...</th>\n",
       "      <td>...</td>\n",
       "      <td>...</td>\n",
       "      <td>...</td>\n",
       "      <td>...</td>\n",
       "    </tr>\n",
       "    <tr>\n",
       "      <th>3895</th>\n",
       "      <td>3895</td>\n",
       "      <td>Onu görünce ben de ürktüm bir baþta sonra yeni...</td>\n",
       "      <td>korku</td>\n",
       "      <td>Onu görünce ben de ürktüm bir baþta sonra yeni...</td>\n",
       "    </tr>\n",
       "    <tr>\n",
       "      <th>3896</th>\n",
       "      <td>3896</td>\n",
       "      <td>Gece sabaha kadar 50 tane kabus gördüm nasýl b...</td>\n",
       "      <td>korku</td>\n",
       "      <td>Gece sabaha kadar 50 tane kabus gördüm nasýl b...</td>\n",
       "    </tr>\n",
       "    <tr>\n",
       "      <th>3897</th>\n",
       "      <td>3897</td>\n",
       "      <td>Sustum senden sonra, sessize aldým dilimi. Ne ...</td>\n",
       "      <td>korku</td>\n",
       "      <td>Sustum senden sonra, sessize aldým dilimi. Ne ...</td>\n",
       "    </tr>\n",
       "    <tr>\n",
       "      <th>3898</th>\n",
       "      <td>3898</td>\n",
       "      <td>mutsuzum çünkü ders çalýþamýyorum odaklanamýyo...</td>\n",
       "      <td>uzgun</td>\n",
       "      <td>mutsuzum çünkü ders çalýþamýyorum odaklanamýyo...</td>\n",
       "    </tr>\n",
       "    <tr>\n",
       "      <th>3899</th>\n",
       "      <td>3899</td>\n",
       "      <td>Metroda bile çeken telefon evde çekmiyor. Ýnsa...</td>\n",
       "      <td>surpriz</td>\n",
       "      <td>Metroda bile çeken telefon evde çekmiyor. Ýnsa...</td>\n",
       "    </tr>\n",
       "  </tbody>\n",
       "</table>\n",
       "<p>3900 rows × 4 columns</p>\n",
       "</div>"
      ],
      "text/plain": [
       "      Unnamed: 0                                           Sentence    Label  \\\n",
       "0              0  Allah aþkýna bi fýrça neden 250 tl neden yani ...   kizgin   \n",
       "1              1  Muavin bir þey içip içmediðimi sormak için ben...  surpriz   \n",
       "2              2  Herkese güzel günler öpüyorum sizler tivitýr a...    mutlu   \n",
       "3              3  Ya þu sevgililerin birbirine þifre verme olayý...   kizgin   \n",
       "4              4  Almanya'da 'yok artýk' dedirten olay! Nereye p...  surpriz   \n",
       "...          ...                                                ...      ...   \n",
       "3895        3895  Onu görünce ben de ürktüm bir baþta sonra yeni...    korku   \n",
       "3896        3896  Gece sabaha kadar 50 tane kabus gördüm nasýl b...    korku   \n",
       "3897        3897  Sustum senden sonra, sessize aldým dilimi. Ne ...    korku   \n",
       "3898        3898  mutsuzum çünkü ders çalýþamýyorum odaklanamýyo...    uzgun   \n",
       "3899        3899  Metroda bile çeken telefon evde çekmiyor. Ýnsa...  surpriz   \n",
       "\n",
       "                                             Clean_Text  \n",
       "0     Allah aþkýna bi fýrça neden 250 tl neden yani ...  \n",
       "1     Muavin bir þey içip içmediðimi sormak için ben...  \n",
       "2     Herkese güzel günler öpüyorum sizler tivitýr a...  \n",
       "3     Ya þu sevgililerin birbirine þifre verme olayý...  \n",
       "4     Almanya'da 'yok artýk' dedirten olay! Nereye p...  \n",
       "...                                                 ...  \n",
       "3895  Onu görünce ben de ürktüm bir baþta sonra yeni...  \n",
       "3896  Gece sabaha kadar 50 tane kabus gördüm nasýl b...  \n",
       "3897  Sustum senden sonra, sessize aldým dilimi. Ne ...  \n",
       "3898  mutsuzum çünkü ders çalýþamýyorum odaklanamýyo...  \n",
       "3899  Metroda bile çeken telefon evde çekmiyor. Ýnsa...  \n",
       "\n",
       "[3900 rows x 4 columns]"
      ]
     },
     "execution_count": 4,
     "metadata": {},
     "output_type": "execute_result"
    }
   ],
   "source": [
    "dir(nfx)\n",
    "# user Handles\n",
    "df['Clean_Text'] = df['Sentence'].apply(nfx.remove_userhandles)\n",
    "df['Clean_Text'] = df['Clean_Text'].apply(nfx.remove_stopwords)\n",
    "df"
   ]
  },
  {
   "cell_type": "markdown",
   "metadata": {},
   "source": [
    "Features and Labels"
   ]
  },
  {
   "cell_type": "code",
   "execution_count": 5,
   "metadata": {},
   "outputs": [],
   "source": [
    "Xfeatures=df['Sentence']\n",
    "ylabels=df['Label']\n",
    "#train test split\n",
    "x_train,x_test,y_train,y_test=train_test_split(Xfeatures,ylabels,test_size=0.2,random_state=41)"
   ]
  },
  {
   "cell_type": "markdown",
   "metadata": {},
   "source": [
    "Building Pipeline"
   ]
  },
  {
   "cell_type": "code",
   "execution_count": 6,
   "metadata": {},
   "outputs": [],
   "source": [
    "from sklearn.pipeline import Pipeline\n",
    "# a simple Logistic Regression Pipeline\n",
    "pipe_lr=Pipeline(steps=[('cv',CountVectorizer()),('lr',LogisticRegression())])"
   ]
  },
  {
   "cell_type": "markdown",
   "metadata": {},
   "source": [
    "Train and Fit data in model"
   ]
  },
  {
   "cell_type": "code",
   "execution_count": 7,
   "metadata": {},
   "outputs": [
    {
     "data": {
      "text/plain": [
       "0.9705128205128205"
      ]
     },
     "execution_count": 7,
     "metadata": {},
     "output_type": "execute_result"
    }
   ],
   "source": [
    "pipe_lr.fit(x_train,y_train)\n",
    "pipe_lr.score(x_test,y_test)"
   ]
  },
  {
   "cell_type": "markdown",
   "metadata": {},
   "source": [
    "Save the model with pipeline"
   ]
  },
  {
   "cell_type": "code",
   "execution_count": 8,
   "metadata": {},
   "outputs": [],
   "source": [
    "import joblib\n",
    "pipeline_file=open('emotion_classifier.pkl',\"wb\")\n",
    "joblib.dump(pipe_lr,pipeline_file)\n",
    "pipeline_file.close()"
   ]
  }
 ],
 "metadata": {
  "interpreter": {
   "hash": "e660acd19f9beec01655d5bd5b63ad72ddc5c8c9f5501ea1952cbf7b1d7f5777"
  },
  "kernelspec": {
   "display_name": "Python 3.10.4 ('venv': venv)",
   "language": "python",
   "name": "python3"
  },
  "language_info": {
   "codemirror_mode": {
    "name": "ipython",
    "version": 3
   },
   "file_extension": ".py",
   "mimetype": "text/x-python",
   "name": "python",
   "nbconvert_exporter": "python",
   "pygments_lexer": "ipython3",
   "version": "3.12.2"
  },
  "orig_nbformat": 4
 },
 "nbformat": 4,
 "nbformat_minor": 2
}
